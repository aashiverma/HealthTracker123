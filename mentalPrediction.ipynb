{
 "cells": [
  {
   "cell_type": "code",
   "execution_count": 1,
   "metadata": {},
   "outputs": [],
   "source": [
    "import numpy as np\n",
    "import matplotlib.pyplot as plt\n",
    "import pandas as pd\n",
    "import xgboost as xgb\n",
    "from sklearn.preprocessing import LabelEncoder, OneHotEncoder\n",
    "from sklearn.compose import ColumnTransformer\n",
    "from sklearn.model_selection import GridSearchCV, cross_val_score"
   ]
  },
  {
   "cell_type": "code",
   "execution_count": 2,
   "metadata": {},
   "outputs": [],
   "source": [
    "data = pd.read_csv('Mental.csv')"
   ]
  },
  {
   "cell_type": "code",
   "execution_count": 3,
   "metadata": {},
   "outputs": [],
   "source": [
    "y= data['How will you']\n",
    "y = np.where(y == 2, 1, y)\n",
    "y = np.where(y == 3, 2, y)\n",
    "y = np.where(y == 4, 2, y)\n",
    "y = np.where(y == 5, 3, y)\n",
    "\n",
    "data.drop(['Timestamp', 'How will you','What is your Screen-Time? ',\n",
    "           'What is your Field of Study?','What\\'s your gender?','What is the Location type  of your college ? ','How will you rate your alcohol or drugs intake? '],axis=1,inplace=True) "
   ]
  },
  {
   "cell_type": "code",
   "execution_count": 4,
   "metadata": {},
   "outputs": [],
   "source": [
    "var = ['Do you experience insomnia? ','Did you ever have any suicidal thoughts?',\n",
    "           'Do you have a history of mental illness or any traumatic experience?']\n",
    "arr=[]\n",
    "\n",
    "for i in var:\n",
    "    le = LabelEncoder()\n",
    "    data[i] = le.fit_transform(data[i]) \n",
    "    arr.append(le)"
   ]
  },
  {
   "cell_type": "code",
   "execution_count": 5,
   "metadata": {},
   "outputs": [
    {
     "name": "stdout",
     "output_type": "stream",
     "text": [
      "2\n"
     ]
    }
   ],
   "source": [
    "arr[0]\n",
    "x=int(arr[0].transform([\"Yes\"]))\n",
    "print(x)"
   ]
  },
  {
   "cell_type": "code",
   "execution_count": 6,
   "metadata": {},
   "outputs": [
    {
     "data": {
      "text/plain": [
       "['enc.sav']"
      ]
     },
     "execution_count": 6,
     "metadata": {},
     "output_type": "execute_result"
    }
   ],
   "source": [
    "import joblib\n",
    "filename = 'enc.sav'\n",
    "joblib.dump(arr, filename)\n"
   ]
  },
  {
   "cell_type": "code",
   "execution_count": 7,
   "metadata": {},
   "outputs": [],
   "source": [
    "X= np.copy(data)\n",
    " \n",
    "from sklearn.model_selection import train_test_split\n",
    "from sklearn.utils import shuffle\n",
    "X,y = shuffle(X,y,random_state=2)\n",
    "\n",
    "X_train, X_test, y_train,y_test= train_test_split(X,y, test_size = 0.2, random_state = 0)\n"
   ]
  },
  {
   "cell_type": "code",
   "execution_count": 8,
   "metadata": {},
   "outputs": [
    {
     "data": {
      "text/plain": [
       "XGBClassifier(base_score=0.5, booster='gbtree', colsample_bylevel=1,\n",
       "              colsample_bynode=1, colsample_bytree=1, gamma=0, gpu_id=-1,\n",
       "              importance_type='gain', interaction_constraints='',\n",
       "              learning_rate=0.2, max_delta_step=0, max_depth=2,\n",
       "              min_child_weight=1, missing=None, monotone_constraints='()',\n",
       "              n_estimators=100, n_jobs=0, num_parallel_tree=1,\n",
       "              objective='multi:softprob', random_state=0, reg_alpha=0,\n",
       "              reg_lambda=10, scale_pos_weight=None, subsample=1,\n",
       "              tree_method='exact', validate_parameters=1, verbosity=None)"
      ]
     },
     "execution_count": 8,
     "metadata": {},
     "output_type": "execute_result"
    }
   ],
   "source": [
    "import xgboost as xgb\n",
    "xgb_clas = xgb.XGBClassifier(objective= \"binary-logistic\",learning_rate=0.2,\n",
    "                            missing= None, max_depth=2,reg_lambda=10)\n",
    "xgb_clas.fit(X_train,y_train, eval_set=[(X_test,y_test)], early_stopping_rounds= 5, verbose=False) "
   ]
  },
  {
   "cell_type": "code",
   "execution_count": 9,
   "metadata": {},
   "outputs": [
    {
     "name": "stdout",
     "output_type": "stream",
     "text": [
      "[2 2 2 3 2 2 2 2 1 2 2 1 2 2 2 2 2 2 2 2 2 1 2 2 2 2 2 2 2 2 2 2 2 2 2 2 2\n",
      " 2 2 3 1 2 2 2 2 2 2 2 2 2 3 2 2 2 2 1 2 2 3 2 1 2 2 2 2 1 2 2 2 2 2 2 1 2\n",
      " 2 2 2 2 2 2 2 2 2 2 1 2 2 2 2 2 2 2 2 2 2 2 2 2 2 2 2 2 2 2 1 2 2 2 2 2 2\n",
      " 1 2 2 2 2 2 2 2 2 2 2 1 2 1 2 2 2]\n"
     ]
    }
   ],
   "source": [
    "y_pred = xgb_clas.predict(X_test)\n",
    "print(y_pred)"
   ]
  },
  {
   "cell_type": "code",
   "execution_count": 10,
   "metadata": {},
   "outputs": [
    {
     "data": {
      "text/plain": [
       "array([[21,  3,  2, ...,  1,  3,  1],\n",
       "       [21,  3,  1, ...,  1,  4,  0],\n",
       "       [26,  3,  2, ...,  1,  4,  0],\n",
       "       ...,\n",
       "       [21,  2,  2, ...,  3,  4,  0],\n",
       "       [22,  3,  1, ...,  2,  5,  0],\n",
       "       [19,  2,  1, ...,  1,  3,  0]], dtype=int64)"
      ]
     },
     "execution_count": 10,
     "metadata": {},
     "output_type": "execute_result"
    }
   ],
   "source": [
    "X_test"
   ]
  },
  {
   "cell_type": "code",
   "execution_count": 11,
   "metadata": {},
   "outputs": [
    {
     "name": "stdout",
     "output_type": "stream",
     "text": [
      "              precision    recall  f1-score   support\n",
      "\n",
      "           1       0.85      0.52      0.65        21\n",
      "           2       0.82      0.98      0.89        93\n",
      "           3       1.00      0.29      0.44        14\n",
      "\n",
      "    accuracy                           0.83       128\n",
      "   macro avg       0.89      0.60      0.66       128\n",
      "weighted avg       0.84      0.83      0.80       128\n",
      "\n",
      "[[11 10  0]\n",
      " [ 2 91  0]\n",
      " [ 0 10  4]]\n",
      "0.7191652312992126\n"
     ]
    }
   ],
   "source": [
    "from sklearn.metrics import classification_report,confusion_matrix\n",
    "print(classification_report(y_test,y_pred))\n",
    "print(confusion_matrix(y_test,y_pred))\n",
    "\n",
    "\n",
    "accuracies = cross_val_score(estimator= xgb_clas,X = X_train, y= y_train, cv=4)\n",
    "print(accuracies.mean())"
   ]
  },
  {
   "cell_type": "code",
   "execution_count": 12,
   "metadata": {},
   "outputs": [
    {
     "data": {
      "image/png": "[encoded data removed]",
      "text/plain": [
       "<Figure size 432x288 with 1 Axes>"
      ]
     },
     "metadata": {
      "needs_background": "light"
     },
     "output_type": "display_data"
    }
   ],
   "source": [
    "from matplotlib import pyplot\n",
    "from xgboost import plot_importance\n",
    "plot_importance(xgb_clas)\n",
    "pyplot.show()\n"
   ]
  },
  {
   "cell_type": "code",
   "execution_count": 13,
   "metadata": {},
   "outputs": [
    {
     "data": {
      "text/plain": [
       "['mymodel.sav']"
      ]
     },
     "execution_count": 13,
     "metadata": {},
     "output_type": "execute_result"
    }
   ],
   "source": [
    "filename = 'mymodel.sav'\n",
    "joblib.dump(xgb_clas, filename)"
   ]
  },
  {
   "cell_type": "code",
   "execution_count": null,
   "metadata": {},
   "outputs": [],
   "source": []
  }
 ],
 "metadata": {
  "kernelspec": {
   "display_name": "Python 3",
   "language": "python",
   "name": "python3"
  },
  "language_info": {
   "codemirror_mode": {
    "name": "ipython",
    "version": 3
   },
   "file_extension": ".py",
   "mimetype": "text/x-python",
   "name": "python",
   "nbconvert_exporter": "python",
   "pygments_lexer": "ipython3",
   "version": "3.8.3"
  }
 },
 "nbformat": 4,
 "nbformat_minor": 5
}
